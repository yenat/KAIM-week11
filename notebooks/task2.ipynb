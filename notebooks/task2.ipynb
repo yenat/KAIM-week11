{
 "cells": [
  {
   "cell_type": "code",
   "execution_count": 1,
   "metadata": {},
   "outputs": [],
   "source": [
    "import pandas as pd\n",
    "from sklearn.model_selection import train_test_split\n",
    "\n",
    "# Load the dataset\n",
    "data = pd.read_csv('../data/cleaned_financial_data.csv', parse_dates=['Date'], index_col='Date')\n",
    "\n",
    "# Use closing prices and additional features for forecasting\n",
    "features = ['Close_TSLA', 'Volume_TSLA', 'High_TSLA', 'Low_TSLA']\n",
    "data_tsla = data[features]\n",
    "\n",
    "# Divide the dataset into training and testing sets\n",
    "train_data, test_data = train_test_split(data_tsla, test_size=0.2, shuffle=False)\n"
   ]
  },
  {
   "cell_type": "code",
   "execution_count": 4,
   "metadata": {},
   "outputs": [
    {
     "name": "stderr",
     "output_type": "stream",
     "text": [
      "/home/enat/.local/lib/python3.10/site-packages/statsmodels/tsa/base/tsa_model.py:473: ValueWarning: A date index has been provided, but it has no associated frequency information and so will be ignored when e.g. forecasting.\n",
      "  self._init_dates(dates, freq)\n",
      "/home/enat/.local/lib/python3.10/site-packages/statsmodels/tsa/base/tsa_model.py:473: ValueWarning: A date index has been provided, but it has no associated frequency information and so will be ignored when e.g. forecasting.\n",
      "  self._init_dates(dates, freq)\n",
      "/home/enat/.local/lib/python3.10/site-packages/statsmodels/tsa/base/tsa_model.py:473: ValueWarning: A date index has been provided, but it has no associated frequency information and so will be ignored when e.g. forecasting.\n",
      "  self._init_dates(dates, freq)\n"
     ]
    }
   ],
   "source": [
    "from statsmodels.tsa.arima.model import ARIMA\n",
    "\n",
    "# Train ARIMA model on closing prices\n",
    "arima_model = ARIMA(train_data['Close_TSLA'], order=(5, 1, 0))  # You might need to tune the order\n",
    "arima_model_fit = arima_model.fit()\n"
   ]
  },
  {
   "cell_type": "code",
   "execution_count": null,
   "metadata": {},
   "outputs": [],
   "source": [
    "forecast_arima, conf_int_arima = arima_model.predict(n_periods=len(test_data), return_conf_int=True)\n"
   ]
  },
  {
   "cell_type": "code",
   "execution_count": 5,
   "metadata": {},
   "outputs": [
    {
     "name": "stderr",
     "output_type": "stream",
     "text": [
      "/home/enat/.local/lib/python3.10/site-packages/statsmodels/tsa/base/tsa_model.py:837: ValueWarning: No supported index is available. Prediction results will be given with an integer index beginning at `start`.\n",
      "  return get_prediction_index(\n",
      "/home/enat/.local/lib/python3.10/site-packages/statsmodels/tsa/base/tsa_model.py:837: FutureWarning: No supported index is available. In the next version, calling this method in a model without a supported index will result in an exception.\n",
      "  return get_prediction_index(\n"
     ]
    }
   ],
   "source": [
    "forecast_arima = arima_model_fit.forecast(steps=len(test_data))\n"
   ]
  },
  {
   "cell_type": "code",
   "execution_count": 10,
   "metadata": {},
   "outputs": [],
   "source": [
    "import numpy as np\n",
    "from sklearn.preprocessing import MinMaxScaler\n",
    "\n",
    "# Scale the data\n",
    "scaler = MinMaxScaler()\n",
    "train_scaled = scaler.fit_transform(train_data)\n",
    "test_scaled = scaler.transform(test_data)\n",
    "\n",
    "# Create sequences for LSTM\n",
    "def create_sequences(data, seq_length):\n",
    "    xs, ys = [], []\n",
    "    for i in range(len(data) - seq_length):\n",
    "        x = data[i:i+seq_length]\n",
    "        y = data[i+seq_length, 0]  # predict the Close_TSLA\n",
    "        xs.append(x)\n",
    "        ys.append(y)\n",
    "    return np.array(xs), np.array(ys)\n",
    "\n",
    "seq_length = 60  # 60 days sequence\n",
    "X_train, y_train = create_sequences(train_scaled, seq_length)\n",
    "X_test, y_test = create_sequences(test_scaled, seq_length)\n"
   ]
  },
  {
   "cell_type": "code",
   "execution_count": null,
   "metadata": {},
   "outputs": [],
   "source": [
    "from tensorflow.keras.models import Sequential\n",
    "from tensorflow.keras.layers import LSTM, Dense, Dropout\n",
    "\n",
    "# Build the model\n",
    "\n",
    "model = Sequential()\n",
    "model.add(LSTM(units=50, return_sequences=True, input_shape=(X_train.shape[1], X_train.shape[2])))\n",
    "model.add(LSTM(units=50))\n",
    "model.add(Dropout(0.2))\n",
    "model.add(Dense(1))\n",
    "\n",
    "model.compile(optimizer='adam', loss='mean_squared_error')\n",
    "model.summary()\n",
    "\n",
    "# Train the model\n",
    "history = model.fit(X_train, y_train, epochs=20, batch_size=32, validation_split=0.2)\n"
   ]
  },
  {
   "cell_type": "code",
   "execution_count": null,
   "metadata": {},
   "outputs": [],
   "source": [
    "predictions_lstm = model.predict(X_test)\n",
    "predictions_lstm = scaler.inverse_transform(np.concatenate((predictions_lstm, np.zeros((predictions_lstm.shape[0], len(features) - 1))), axis=1))[:, 0]\n"
   ]
  },
  {
   "cell_type": "code",
   "execution_count": null,
   "metadata": {},
   "outputs": [],
   "source": [
    "from sklearn.metrics import mean_absolute_error, mean_squared_error, mean_absolute_percentage_error\n",
    "\n",
    "# ARIMA Metrics\n",
    "mae_arima = mean_absolute_error(test_data['Close_TSLA'], forecast_arima)\n",
    "rmse_arima = np.sqrt(mean_squared_error(test_data['Close_TSLA'], forecast_arima))\n",
    "mape_arima = mean_absolute_percentage_error(test_data['Close_TSLA'], forecast_arima)\n",
    "\n",
    "print(f\"ARIMA - Mean Absolute Error (MAE): {mae_arima}\")\n",
    "print(f\"ARIMA - Root Mean Squared Error (RMSE): {rmse_arima}\")\n",
    "print(f\"ARIMA - Mean Absolute Percentage Error (MAPE): {mape_arima}\")\n",
    "\n",
    "# LSTM Metrics\n",
    "mae_lstm = mean_absolute_error(test_data['Close_TSLA'][seq_length:], predictions_lstm)\n",
    "rmse_lstm = np.sqrt(mean_squared_error(test_data['Close_TSLA'][seq_length:], predictions_lstm))\n",
    "mape_lstm = mean_absolute_percentage_error(test_data['Close_TSLA'][seq_length:], predictions_lstm)\n",
    "\n",
    "print(f\"LSTM - Mean Absolute Error (MAE): {mae_lstm}\")\n",
    "print(f\"LSTM - Root Mean Squared Error (RMSE): {rmse_lstm}\")\n",
    "print(f\"LSTM - Mean Absolute Percentage Error (MAPE): {mape_lstm}\")\n"
   ]
  },
  {
   "cell_type": "code",
   "execution_count": null,
   "metadata": {},
   "outputs": [],
   "source": [
    "import matplotlib.pyplot as plt\n",
    "\n",
    "# Plot ARIMA Results\n",
    "plt.figure(figsize=(12, 6))\n",
    "plt.plot(test_data.index, test_data['Close_TSLA'], label='Test Data')\n",
    "plt.plot(test_data.index, forecast_arima, label='ARIMA Forecast', color='red')\n",
    "plt.title('Tesla Stock Price Forecast using ARIMA')\n",
    "plt.xlabel('Date')\n",
    "plt.ylabel('Price')\n",
    "plt.legend()\n",
    "plt.show()\n",
    "\n",
    "# Plot LSTM Results\n",
    "plt.figure(figsize=(12, 6))\n",
    "plt.plot(test_data.index[seq_length:], test_data['Close_TSLA'][seq_length:], label='Test Data')\n",
    "plt.plot(test_data.index[seq_length:], predictions_lstm, label='LSTM Forecast', color='blue')\n",
    "plt.title('Tesla Stock Price Forecast using LSTM')\n",
    "plt.xlabel('Date')\n",
    "plt.ylabel('Price')\n",
    "plt.legend()\n",
    "plt.show()\n"
   ]
  }
 ],
 "metadata": {
  "kernelspec": {
   "display_name": "Python 3",
   "language": "python",
   "name": "python3"
  },
  "language_info": {
   "codemirror_mode": {
    "name": "ipython",
    "version": 3
   },
   "file_extension": ".py",
   "mimetype": "text/x-python",
   "name": "python",
   "nbconvert_exporter": "python",
   "pygments_lexer": "ipython3",
   "version": "3.10.12"
  }
 },
 "nbformat": 4,
 "nbformat_minor": 2
}
